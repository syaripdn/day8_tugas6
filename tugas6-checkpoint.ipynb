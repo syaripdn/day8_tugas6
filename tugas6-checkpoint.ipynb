{
 "cells": [
  {
   "cell_type": "markdown",
   "metadata": {},
   "source": [
    "Tugas 8.1\n",
    "Implementasikan konsep enskapsulasi pada kasus UTS anda"
   ]
  },
  {
   "cell_type": "code",
   "execution_count": 8,
   "metadata": {},
   "outputs": [
    {
     "data": {
      "text/plain": [
       "com.twosigma.beaker.javash.bkrdc2862f5.Mahasiswa"
      ]
     },
     "execution_count": 8,
     "metadata": {},
     "output_type": "execute_result"
    }
   ],
   "source": [
    "public class Mahasiswa {\n",
    "    String nama;\n",
    "    double IPK;\n",
    "    int semester;\n",
    "\n",
    "public String hitungYudisium() {\n",
    "    String yudisium;\n",
    "    if ( (semester<=8) && (IPK>3.5) ) {\n",
    "            yudisium = \"Cum Laude\";\n",
    "        } else {\n",
    "            yudisium = \"Memuaskan\";\n",
    "        }\n",
    "        return yudisium;\n",
    "    }\n",
    "}"
   ]
  },
  {
   "cell_type": "code",
   "execution_count": 9,
   "metadata": {},
   "outputs": [
    {
     "data": {
      "text/plain": [
       "com.twosigma.beaker.javash.bkrdc2862f5.MahasiswaS2"
      ]
     },
     "execution_count": 9,
     "metadata": {},
     "output_type": "execute_result"
    }
   ],
   "source": [
    "public class MahasiswaS2 extends Mahasiswa {\n",
    "\n",
    "public String hitungYudisium() {\n",
    "        String yudisium;\n",
    "        if ( (semester<=6) && (IPK>3.8) ) {\n",
    "            yudisium = \"Cum Laude\";\n",
    "        } else {\n",
    "            yudisium = \"Memuaskan\";\n",
    "        }\n",
    "        return yudisium;\n",
    "    }\n",
    "}"
   ]
  },
  {
   "cell_type": "markdown",
   "metadata": {},
   "source": [
    "Konsep Overide Dalam Pewarisan"
   ]
  },
  {
   "cell_type": "code",
   "execution_count": null,
   "metadata": {},
   "outputs": [],
   "source": [
    "public class MahasiswaS2 extends Mahasiswa {\n",
    "\n",
    "public String hitungYudisium() {\n",
    "        String yudisium;\n",
    "        if ( (semester<=4) && (IPK>3.8) ) {\n",
    "            yudisium = \"Cum Laude\";\n",
    "        } else {\n",
    "            yudisium = \"Memuaskan\";\n",
    "        }\n",
    "        return yudisium;\n",
    "    }\n",
    "\n",
    "public String getJurusanS1() {}\n",
    "   \n",
    "   "
   ]
  },
  {
   "cell_type": "markdown",
   "metadata": {},
   "source": [
    "Statment super dalam pewarisan"
   ]
  },
  {
   "cell_type": "code",
   "execution_count": null,
   "metadata": {},
   "outputs": [],
   "source": [
    "public class Ortu{\n",
    "    public void salam(){\n",
    "        System.out.println(\"Ini salam dari ortu\")\n",
    "    }\n",
    "}"
   ]
  },
  {
   "cell_type": "code",
   "execution_count": null,
   "metadata": {},
   "outputs": [],
   "source": [
    "public class Anak extends Ortu {\n",
    "\n",
    "    public void salam() {\n",
    "        super.salam(); //panggil Ortu.salam\n",
    "        System.out.println(\"Salam dari anak\");\n",
    "    }\n",
    "\n",
    "    public static void main(String[] args) {\n",
    "        Anak a = new Anak();\n",
    "        a.salam();\n",
    "    }\n",
    "\n",
    "}"
   ]
  },
  {
   "cell_type": "markdown",
   "metadata": {},
   "source": [
    "Tugas 8.2\n",
    "Lakukan eksesusi kode berikut dan amatilah hasilnya."
   ]
  },
  {
   "cell_type": "code",
   "execution_count": null,
   "metadata": {},
   "outputs": [],
   "source": [
    "    public class Mahasiswa {    \n",
    "    String nama;\n",
    "    double IPK;\n",
    "    int semester;\n",
    "\n",
    "public String hitungYudisium() {\n",
    "    String yudisium;\n",
    "    if ( (semester<=8) && (IPK>3.5) ) {\n",
    "            yudisium = \"Cum Laude\";\n",
    "        } else {\n",
    "            yudisium = \"Memuaskan\";\n",
    "        }\n",
    "        return yudisium;\n",
    "    }\n",
    "}   "
   ]
  },
  {
   "cell_type": "code",
   "execution_count": null,
   "metadata": {},
   "outputs": [],
   "source": [
    "public class MahasiswaS2 extends Mahasiswa {\n",
    "\n",
    "public String hitungYudisium() {\n",
    "        String yudisium;\n",
    "        if ( (semester<=4) && (IPK>3.8) ) {\n",
    "            yudisium = \"Cum Laude\";\n",
    "        } else {\n",
    "            yudisium = \"Memuaskan\";\n",
    "        }\n",
    "        return yudisium;\n",
    "    }\n",
    "\n",
    "}\n"
   ]
  },
  {
   "cell_type": "markdown",
   "metadata": {},
   "source": [
    "Tugaspublic interface TampilLaporan {\n",
    "    public void tampilWeb();\n",
    "    public void tampilMobile();\n",
    "}\n",
    "\n",
    "public class LaporanPembelian implements CetakLaporan, TampilLaporan{\n",
    "    public void cetakA4(){\n",
    "        System.out.println(\"Cetak Laporan di A4\");\n",
    "    }\n",
    "    public void cetakA3(){\n",
    "        System.out.println(\"Cetak Laporan di A3\");\n",
    "    }\n",
    "    public void tampilWeb(){\n",
    "        System.out.println(\"Tampil di Monitor\");\n",
    "    }\n",
    "    public void tampilMobile(){\n",
    "        System.out.println(\"Tampil di Handphone\");\n",
    "    } 8.7\n",
    "Implementasikan Program 8.7 diatas kemudian lakukan eksesusi kode tersebut dan amatilah hasilnya."
   ]
  },
  {
   "cell_type": "code",
   "execution_count": null,
   "metadata": {},
   "outputs": [],
   "source": [
    "public interface CetakLaporan {\n",
    "    public void cetakA4();\n",
    "    public void cetakA3();\n",
    "}"
   ]
  },
  {
   "cell_type": "code",
   "execution_count": null,
   "metadata": {},
   "outputs": [],
   "source": [
    "public class LaporanPenjualan implements CetakLaporan{\n",
    "    public void cetakA4(){\n",
    "        System.out.println(\"Cetak Laporan di A4\");\n",
    "    }\n",
    "    public void cetakA3(){\n",
    "        System.out.println(\"Cetak Laporan di A3\");\n",
    "    }\n",
    "}"
   ]
  },
  {
   "cell_type": "markdown",
   "metadata": {},
   "source": [
    "Tugas 8.7\n",
    "Implementasikan Program 8.7 diatas kemudian lakukan eksesusi kode tersebut dan amatilah hasilnya."
   ]
  },
  {
   "cell_type": "code",
   "execution_count": null,
   "metadata": {},
   "outputs": [],
   "source": [
    "public interface TampilLaporan {\n",
    "    public void tampilWeb();\n",
    "    public void tampilMobile();\n",
    "}\n",
    "\n",
    "public class LaporanPembelian implements CetakLaporan, TampilLaporan{\n",
    "    public void cetakA4(){\n",
    "        System.out.println(\"Cetak Laporan di A4\");\n",
    "    }\n",
    "    public void cetakA3(){\n",
    "        System.out.println(\"Cetak Laporan di A3\");\n",
    "    }\n",
    "    public void tampilWeb(){\n",
    "        System.out.println(\"Tampil di Monitor\");\n",
    "    }\n",
    "    public void tampilMobile(){\n",
    "        System.out.println(\"Tampil di Handphone\");\n",
    "    }"
   ]
  },
  {
   "cell_type": "markdown",
   "metadata": {},
   "source": [
    "Tugas 8.9\n",
    "Berikanlah kesimpulan berkait dengan materi Pilar - pilar dalam Pemrograman Berorientasi Objek ;\n",
    "\n"
   ]
  },
  {
   "cell_type": "markdown",
   "metadata": {},
   "source": [
    "kegunaan nya yang sangat banyak di mana kita dapat membuat sebuah program dengan terstruktur yang baik dan lebih mudah dibandingkan dengan pemrograman prosedural. konsep pemprograman di mana beberapa method dengan nama yang sama pada suatu kelas memiliki parameter yang berbeda."
   ]
  }
 ],
 "metadata": {
  "kernelspec": {
   "display_name": "Java",
   "language": "java",
   "name": "java"
  },
  "language_info": {
   "codemirror_mode": "text/x-java",
   "file_extension": ".java",
   "mimetype": "",
   "name": "Java",
   "nbconverter_exporter": "",
   "version": "1.8.0_121"
  },
  "toc": {
   "base_numbering": 1,
   "nav_menu": {},
   "number_sections": false,
   "sideBar": false,
   "skip_h1_title": false,
   "title_cell": "Table of Contents",
   "title_sidebar": "Contents",
   "toc_cell": false,
   "toc_position": {},
   "toc_section_display": false,
   "toc_window_display": false
  }
 },
 "nbformat": 4,
 "nbformat_minor": 2
}
